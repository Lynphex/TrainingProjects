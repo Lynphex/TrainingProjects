{
 "cells": [
  {
   "cell_type": "markdown",
   "id": "874f2970",
   "metadata": {},
   "source": [
    "# BIG DATA PROCESSING. PROYECTO FINAL"
   ]
  },
  {
   "cell_type": "code",
   "execution_count": 84,
   "id": "513fc436",
   "metadata": {},
   "outputs": [],
   "source": [
    "import pandas as pd"
   ]
  },
  {
   "cell_type": "code",
   "execution_count": 85,
   "id": "9a3fcbd4",
   "metadata": {},
   "outputs": [],
   "source": [
    "wh_2021 = pd.read_csv('world-happiness-report-2021.csv')\n",
    "wh_b2021 = pd.read_csv('world-happiness-report.csv')"
   ]
  },
  {
   "cell_type": "markdown",
   "id": "f3d6b17c",
   "metadata": {},
   "source": [
    "## 1. ¿Cuál es el país más “feliz” del 2021 según la data? (considerar que la columna “Ladder score” mayor número más feliz es el país)"
   ]
  },
  {
   "cell_type": "code",
   "execution_count": 86,
   "id": "b100ef75",
   "metadata": {},
   "outputs": [
    {
     "name": "stdout",
     "output_type": "stream",
     "text": [
      "El país mas 'feliz' del 2021 fue:  Finland\n"
     ]
    }
   ],
   "source": [
    "pais_mas_feliz_2021 = wh_2021.loc[wh_2021['Ladder score'].idxmax()]['Country name']\n",
    "\n",
    "print(\"El país mas 'feliz' del 2021 fue: \", pais_mas_feliz_2021)"
   ]
  },
  {
   "cell_type": "markdown",
   "id": "a15f8510",
   "metadata": {},
   "source": [
    "## 2. ¿Cuál es el país más “feliz” del 2021 por continente según la data?"
   ]
  },
  {
   "cell_type": "code",
   "execution_count": 87,
   "id": "07cde0c7",
   "metadata": {},
   "outputs": [
    {
     "name": "stdout",
     "output_type": "stream",
     "text": [
      "En la región 'Central and Eastern Europe', el país más feliz es 'Czech Republic'.\n",
      "En la región 'Commonwealth of Independent States', el país más feliz es 'Uzbekistan'.\n",
      "En la región 'East Asia', el país más feliz es 'Taiwan Province of China'.\n",
      "En la región 'Latin America and Caribbean', el país más feliz es 'Costa Rica'.\n",
      "En la región 'Middle East and North Africa', el país más feliz es 'Israel'.\n",
      "En la región 'North America and ANZ', el país más feliz es 'New Zealand'.\n",
      "En la región 'South Asia', el país más feliz es 'Nepal'.\n",
      "En la región 'Southeast Asia', el país más feliz es 'Singapore'.\n",
      "En la región 'Sub-Saharan Africa', el país más feliz es 'Mauritius'.\n",
      "En la región 'Western Europe', el país más feliz es 'Finland'.\n"
     ]
    }
   ],
   "source": [
    "grupos_por_region = wh_2021.groupby('Regional indicator')\n",
    "\n",
    "paises_mas_felices_por_region = []\n",
    "\n",
    "for nombre_region, grupo in grupos_por_region:\n",
    "    pais_mas_feliz_en_region = grupo.loc[grupo['Ladder score'].idxmax()]['Country name']\n",
    "    paises_mas_felices_por_region.append((nombre_region, pais_mas_feliz_en_region))\n",
    "\n",
    "for region, pais_mas_feliz in paises_mas_felices_por_region:\n",
    "    print(f\"En la región '{region}', el país más feliz es '{pais_mas_feliz}'.\")"
   ]
  },
  {
   "cell_type": "markdown",
   "id": "8f86c066",
   "metadata": {},
   "source": [
    "## 3. ¿Cuál es el país que más veces ocupó el primer lugar en todos los años?"
   ]
  },
  {
   "cell_type": "code",
   "execution_count": 88,
   "id": "59b1fc9b",
   "metadata": {},
   "outputs": [
    {
     "name": "stdout",
     "output_type": "stream",
     "text": [
      "El país que más veces ocupó el primer lugar todos los años fue 'Denmark' con 7 veces.\n"
     ]
    }
   ],
   "source": [
    "\n",
    "paises_mas_altos_por_ano = wh_b2021.loc[wh_b2021.groupby('year')['Life Ladder'].idxmax()]['Country name']\n",
    "\n",
    "pais_mas_frecuente = paises_mas_altos_por_ano.mode().iloc[0]\n",
    "\n",
    "veces_con_mayor_puntuacion = paises_mas_altos_por_ano.value_counts().max()\n",
    "\n",
    "print(f\"El país que más veces ocupó el primer lugar todos los años fue '{pais_mas_frecuente}' con {veces_con_mayor_puntuacion} veces.\")"
   ]
  },
  {
   "cell_type": "markdown",
   "id": "18c3a276",
   "metadata": {},
   "source": [
    "## 4. ¿Qué puesto de Felicidad tiene el país con mayor GDP del 2020?"
   ]
  },
  {
   "cell_type": "code",
   "execution_count": 89,
   "id": "3a5bc473",
   "metadata": {},
   "outputs": [
    {
     "name": "stdout",
     "output_type": "stream",
     "text": [
      "En el año 2020, el país con el mayor 'Log GDP per capita' es 'Ireland'.\n",
      "En el ranking de felicidad, este país ocuparía el puesto 13.\n"
     ]
    }
   ],
   "source": [
    "year_2020 = wh_b2021[wh_b2021['year'] == 2020]\n",
    "\n",
    "pais_mayor_gdp_2020 = year_2020.loc[year_2020['Log GDP per capita'].idxmax()]['Country name']\n",
    "\n",
    "year_2020_sorted = year_2020.sort_values(by='Life Ladder', ascending=False).reset_index(drop=True)\n",
    "\n",
    "posicion_max_GDP_country = year_2020_sorted[year_2020_sorted['Country name'] == pais_mayor_gdp_2020].index.item() + 1\n",
    "\n",
    "\n",
    "print(f\"En el año 2020, el país con el mayor 'Log GDP per capita' es '{pais_mayor_gdp_2020}'.\")\n",
    "print(f\"En el ranking de felicidad, este país ocuparía el puesto {posicion_max_GDP_country}.\")"
   ]
  },
  {
   "cell_type": "markdown",
   "id": "a0be32ce",
   "metadata": {},
   "source": [
    "## 5. ¿En que porcentaje a variado a nivel mundial el GDP promedio del 2020 respecto al 2021? ¿Aumentó o disminuyó?"
   ]
  },
  {
   "cell_type": "code",
   "execution_count": 90,
   "id": "f78eda61",
   "metadata": {},
   "outputs": [
    {
     "name": "stdout",
     "output_type": "stream",
     "text": [
      "El promedio de GDP para el año 2020 es: 9.75\n",
      "El promedio de GDP para el año 2021 es: 9.43\n",
      "El porcentaje de variación entre 2020 y 2021 es: -3.27%\n",
      "El GDP ha disminuido en un 3.27%.\n"
     ]
    }
   ],
   "source": [
    "year_2020 = wh_b2021[wh_b2021['year'] == 2020]\n",
    "\n",
    "promedio_gdp_2020 = year_2020['Log GDP per capita'].mean()\n",
    "\n",
    "promedio_gdp_2021 = wh_2021['Logged GDP per capita'].mean()\n",
    "\n",
    "porcentaje_variacion = ((promedio_gdp_2021 - promedio_gdp_2020) / promedio_gdp_2020) * 100\n",
    "\n",
    "print(f\"El promedio de GDP para el año 2020 es: {promedio_gdp_2020:.2f}\")\n",
    "print(f\"El promedio de GDP para el año 2021 es: {promedio_gdp_2021:.2f}\")\n",
    "print(f\"El porcentaje de variación entre 2020 y 2021 es: {porcentaje_variacion:.2f}%\")\n",
    "\n",
    "if porcentaje_variacion > 0:\n",
    "    print(f\"El GDP ha aumentado en un {abs(porcentaje_variacion):.2f}%.\")\n",
    "elif porcentaje_variacion < 0:\n",
    "    print(f\"El GDP ha disminuido en un {abs(porcentaje_variacion):.2f}%.\")\n",
    "else:\n",
    "    print(\"El GDP no ha experimentado cambios significativos.\")"
   ]
  },
  {
   "cell_type": "markdown",
   "id": "c0519cb0",
   "metadata": {},
   "source": [
    "## 6. ¿Cuál es el país con mayor expectativa de vida (“Healthy life expectancy at birth”)? Y ¿Cuánto tenia en ese indicador en el 2019?"
   ]
  },
  {
   "cell_type": "code",
   "execution_count": 91,
   "id": "5adb70d1",
   "metadata": {},
   "outputs": [
    {
     "name": "stdout",
     "output_type": "stream",
     "text": [
      "En el año 2021, el país con la mayor expectativa de vida es 'Singapore'.\n",
      "En 2019, este país obtuvo una puntuación de '77.1'.\n"
     ]
    }
   ],
   "source": [
    "pais_mayor_expectativa_2021 = wh_2021.loc[wh_2021['Healthy life expectancy'].idxmax()]['Country name']\n",
    "\n",
    "datos_pais_mayor_expectativa_2019 = wh_b2021[(wh_b2021['Country name'] == pais_mayor_expectativa_2021) & (wh_b2021['year'] == 2019)]\n",
    "\n",
    "puntuacion_expectativa_2019 = datos_pais_mayor_expectativa_2019['Healthy life expectancy at birth'].values[0]\n",
    "\n",
    "print(f\"En el año 2021, el país con la mayor expectativa de vida es '{pais_mayor_expectativa_2021}'.\")\n",
    "print(f\"En 2019, este país obtuvo una puntuación de '{puntuacion_expectativa_2019}'.\")"
   ]
  }
 ],
 "metadata": {
  "kernelspec": {
   "display_name": "Python 3 (ipykernel)",
   "language": "python",
   "name": "python3"
  },
  "language_info": {
   "codemirror_mode": {
    "name": "ipython",
    "version": 3
   },
   "file_extension": ".py",
   "mimetype": "text/x-python",
   "name": "python",
   "nbconvert_exporter": "python",
   "pygments_lexer": "ipython3",
   "version": "3.9.13"
  }
 },
 "nbformat": 4,
 "nbformat_minor": 5
}
