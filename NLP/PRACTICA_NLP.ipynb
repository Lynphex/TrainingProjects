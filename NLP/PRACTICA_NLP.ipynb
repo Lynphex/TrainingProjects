{
 "cells": [
  {
   "cell_type": "markdown",
   "metadata": {
    "id": "SWkwcHyplbV1"
   },
   "source": [
    "\n",
    "\n",
    "Descargo el dataset con las reviews en la categoría Pet supplies\n",
    "\n"
   ]
  },
  {
   "cell_type": "code",
   "execution_count": 5,
   "metadata": {},
   "outputs": [
    {
     "name": "stdout",
     "output_type": "stream",
     "text": [
      "Collecting wordcloud\n",
      "  Downloading wordcloud-1.9.3-cp39-cp39-win_amd64.whl (300 kB)\n",
      "     -------------------------------------- 300.6/300.6 kB 2.3 MB/s eta 0:00:00\n",
      "Requirement already satisfied: matplotlib in c:\\users\\drakharys\\anaconda3\\lib\\site-packages (from wordcloud) (3.5.2)\n",
      "Requirement already satisfied: numpy>=1.6.1 in c:\\users\\drakharys\\anaconda3\\lib\\site-packages (from wordcloud) (1.21.5)\n",
      "Requirement already satisfied: pillow in c:\\users\\drakharys\\anaconda3\\lib\\site-packages (from wordcloud) (9.2.0)\n",
      "Requirement already satisfied: packaging>=20.0 in c:\\users\\drakharys\\anaconda3\\lib\\site-packages (from matplotlib->wordcloud) (21.3)\n",
      "Requirement already satisfied: cycler>=0.10 in c:\\users\\drakharys\\anaconda3\\lib\\site-packages (from matplotlib->wordcloud) (0.11.0)\n",
      "Requirement already satisfied: fonttools>=4.22.0 in c:\\users\\drakharys\\anaconda3\\lib\\site-packages (from matplotlib->wordcloud) (4.25.0)\n",
      "Requirement already satisfied: kiwisolver>=1.0.1 in c:\\users\\drakharys\\anaconda3\\lib\\site-packages (from matplotlib->wordcloud) (1.4.2)\n",
      "Requirement already satisfied: python-dateutil>=2.7 in c:\\users\\drakharys\\anaconda3\\lib\\site-packages (from matplotlib->wordcloud) (2.8.2)\n",
      "Requirement already satisfied: pyparsing>=2.2.1 in c:\\users\\drakharys\\anaconda3\\lib\\site-packages (from matplotlib->wordcloud) (3.0.9)\n",
      "Requirement already satisfied: six>=1.5 in c:\\users\\drakharys\\anaconda3\\lib\\site-packages (from python-dateutil>=2.7->matplotlib->wordcloud) (1.16.0)\n",
      "Installing collected packages: wordcloud\n",
      "Successfully installed wordcloud-1.9.3\n"
     ]
    }
   ],
   "source": [
    "!pip install wordcloud"
   ]
  },
  {
   "cell_type": "code",
   "execution_count": 6,
   "metadata": {
    "colab": {
     "base_uri": "https://localhost:8080/"
    },
    "id": "_2D2LG8GnufO",
    "outputId": "51d7061c-b926-4b49-dfc0-70045c23c5b9"
   },
   "outputs": [
    {
     "name": "stderr",
     "output_type": "stream",
     "text": [
      "[nltk_data] Downloading package punkt to\n",
      "[nltk_data]     C:\\Users\\Drakharys\\AppData\\Roaming\\nltk_data...\n",
      "[nltk_data]   Package punkt is already up-to-date!\n"
     ]
    }
   ],
   "source": [
    "import pandas as pd\n",
    "import numpy as np\n",
    "import nltk\n",
    "from nltk.tokenize import word_tokenize\n",
    "nltk.download('punkt')\n",
    "from nltk.probability import FreqDist\n",
    "import matplotlib.pyplot as plt\n",
    "from wordcloud import WordCloud\n",
    "from sklearn.decomposition import PCA\n",
    "\n",
    "def calcular_cardinalidad_vocabulario(texto):\n",
    "    palabras = word_tokenize(texto.lower())  # Tokenizar el texto y convertirlo a minúsculas\n",
    "    return len(set(palabras))\n",
    "\n",
    "def obtener_ngrams(texto, n=2, num=10):\n",
    "    palabras = word_tokenize(texto.lower())\n",
    "    n_grams = [tuple(palabras[i:i+n]) for i in range(len(palabras)-n+1)]\n",
    "    frecuencia = FreqDist(n_grams)\n",
    "    return frecuencia.most_common(num)"
   ]
  },
  {
   "cell_type": "code",
   "execution_count": 2,
   "metadata": {
    "colab": {
     "base_uri": "https://localhost:8080/"
    },
    "id": "xYu8V0hMlIRz",
    "outputId": "d9796992-e926-44d4-c04e-708f12ad236d"
   },
   "outputs": [
    {
     "name": "stderr",
     "output_type": "stream",
     "text": [
      "\"wget\" no se reconoce como un comando interno o externo,\n",
      "programa o archivo por lotes ejecutable.\n"
     ]
    }
   ],
   "source": [
    "# Esta casilla solo ejecutar si es en Colab\n",
    "!wget https://datarepo.eng.ucsd.edu/mcauley_group/data/amazon_v2/categoryFilesSmall/Pet_Supplies_5.json.gz"
   ]
  },
  {
   "cell_type": "code",
   "execution_count": 8,
   "metadata": {
    "colab": {
     "base_uri": "https://localhost:8080/",
     "height": 484
    },
    "id": "riad6PT-nFaa",
    "outputId": "084b1627-78f2-47f3-e76a-3f9dfd45d562"
   },
   "outputs": [
    {
     "data": {
      "text/html": [
       "<div>\n",
       "<style scoped>\n",
       "    .dataframe tbody tr th:only-of-type {\n",
       "        vertical-align: middle;\n",
       "    }\n",
       "\n",
       "    .dataframe tbody tr th {\n",
       "        vertical-align: top;\n",
       "    }\n",
       "\n",
       "    .dataframe thead th {\n",
       "        text-align: right;\n",
       "    }\n",
       "</style>\n",
       "<table border=\"1\" class=\"dataframe\">\n",
       "  <thead>\n",
       "    <tr style=\"text-align: right;\">\n",
       "      <th></th>\n",
       "      <th>overall</th>\n",
       "      <th>vote</th>\n",
       "      <th>verified</th>\n",
       "      <th>reviewTime</th>\n",
       "      <th>reviewerID</th>\n",
       "      <th>asin</th>\n",
       "      <th>reviewerName</th>\n",
       "      <th>reviewText</th>\n",
       "      <th>summary</th>\n",
       "      <th>unixReviewTime</th>\n",
       "      <th>style</th>\n",
       "      <th>image</th>\n",
       "    </tr>\n",
       "  </thead>\n",
       "  <tbody>\n",
       "    <tr>\n",
       "      <th>0</th>\n",
       "      <td>3</td>\n",
       "      <td>2</td>\n",
       "      <td>True</td>\n",
       "      <td>12 2, 2016</td>\n",
       "      <td>A2KN4FJVI2TZSF</td>\n",
       "      <td>0972585419</td>\n",
       "      <td>M.G.</td>\n",
       "      <td>I purchased this cd for my Pocket Parrot. It h...</td>\n",
       "      <td>It's okay</td>\n",
       "      <td>1480636800</td>\n",
       "      <td>NaN</td>\n",
       "      <td>NaN</td>\n",
       "    </tr>\n",
       "    <tr>\n",
       "      <th>1</th>\n",
       "      <td>3</td>\n",
       "      <td>NaN</td>\n",
       "      <td>True</td>\n",
       "      <td>10 17, 2016</td>\n",
       "      <td>A3RMA1DD66JDRV</td>\n",
       "      <td>0972585419</td>\n",
       "      <td>Susan P.</td>\n",
       "      <td>Maybe it's just my Amazon parrot, but she's no...</td>\n",
       "      <td>It might work for a different bird</td>\n",
       "      <td>1476662400</td>\n",
       "      <td>NaN</td>\n",
       "      <td>NaN</td>\n",
       "    </tr>\n",
       "    <tr>\n",
       "      <th>2</th>\n",
       "      <td>5</td>\n",
       "      <td>2</td>\n",
       "      <td>True</td>\n",
       "      <td>09 9, 2016</td>\n",
       "      <td>AAANYRIEOIT3R</td>\n",
       "      <td>0972585419</td>\n",
       "      <td>Luggie Lugnut</td>\n",
       "      <td>I bought this to help me teach my blue quaker ...</td>\n",
       "      <td>I bought this to help me teach my blue quaker ...</td>\n",
       "      <td>1473379200</td>\n",
       "      <td>NaN</td>\n",
       "      <td>NaN</td>\n",
       "    </tr>\n",
       "    <tr>\n",
       "      <th>3</th>\n",
       "      <td>3</td>\n",
       "      <td>NaN</td>\n",
       "      <td>True</td>\n",
       "      <td>08 31, 2016</td>\n",
       "      <td>A3W44VX0LXAOHU</td>\n",
       "      <td>0972585419</td>\n",
       "      <td>Melissa Partin</td>\n",
       "      <td>Bird showed no interest in it....</td>\n",
       "      <td>Three Stars</td>\n",
       "      <td>1472601600</td>\n",
       "      <td>NaN</td>\n",
       "      <td>NaN</td>\n",
       "    </tr>\n",
       "    <tr>\n",
       "      <th>4</th>\n",
       "      <td>2</td>\n",
       "      <td>NaN</td>\n",
       "      <td>True</td>\n",
       "      <td>08 18, 2016</td>\n",
       "      <td>A16ZDBZGKYDRSU</td>\n",
       "      <td>0972585419</td>\n",
       "      <td>Cheryle Bell</td>\n",
       "      <td>Didn't do a thing for my African Grey! He hate...</td>\n",
       "      <td>He hated it and it was very obnoxious</td>\n",
       "      <td>1471478400</td>\n",
       "      <td>NaN</td>\n",
       "      <td>NaN</td>\n",
       "    </tr>\n",
       "  </tbody>\n",
       "</table>\n",
       "</div>"
      ],
      "text/plain": [
       "   overall vote  verified   reviewTime      reviewerID        asin  \\\n",
       "0        3    2      True   12 2, 2016  A2KN4FJVI2TZSF  0972585419   \n",
       "1        3  NaN      True  10 17, 2016  A3RMA1DD66JDRV  0972585419   \n",
       "2        5    2      True   09 9, 2016   AAANYRIEOIT3R  0972585419   \n",
       "3        3  NaN      True  08 31, 2016  A3W44VX0LXAOHU  0972585419   \n",
       "4        2  NaN      True  08 18, 2016  A16ZDBZGKYDRSU  0972585419   \n",
       "\n",
       "     reviewerName                                         reviewText  \\\n",
       "0            M.G.  I purchased this cd for my Pocket Parrot. It h...   \n",
       "1        Susan P.  Maybe it's just my Amazon parrot, but she's no...   \n",
       "2   Luggie Lugnut  I bought this to help me teach my blue quaker ...   \n",
       "3  Melissa Partin                  Bird showed no interest in it....   \n",
       "4    Cheryle Bell  Didn't do a thing for my African Grey! He hate...   \n",
       "\n",
       "                                             summary  unixReviewTime style  \\\n",
       "0                                          It's okay      1480636800   NaN   \n",
       "1                 It might work for a different bird      1476662400   NaN   \n",
       "2  I bought this to help me teach my blue quaker ...      1473379200   NaN   \n",
       "3                                        Three Stars      1472601600   NaN   \n",
       "4              He hated it and it was very obnoxious      1471478400   NaN   \n",
       "\n",
       "  image  \n",
       "0   NaN  \n",
       "1   NaN  \n",
       "2   NaN  \n",
       "3   NaN  \n",
       "4   NaN  "
      ]
     },
     "execution_count": 8,
     "metadata": {},
     "output_type": "execute_result"
    }
   ],
   "source": [
    "datos = pd.read_json(\"Pet_Supplies_5.json.gz\", lines = True)\n",
    "datos.head()"
   ]
  },
  {
   "cell_type": "code",
   "execution_count": 9,
   "metadata": {
    "id": "HziYlvDjrk7E"
   },
   "outputs": [],
   "source": [
    "datos.dropna(subset=['reviewText'], inplace=True)"
   ]
  },
  {
   "cell_type": "markdown",
   "metadata": {
    "id": "nhTpBfcNqVs2"
   },
   "source": []
  },
  {
   "cell_type": "code",
   "execution_count": 10,
   "metadata": {
    "colab": {
     "base_uri": "https://localhost:8080/",
     "height": 573
    },
    "id": "m_zVTmEvqXIB",
    "outputId": "b68db48c-436a-4b97-dc23-b25cedc2e39a"
   },
   "outputs": [
    {
     "data": {
      "text/html": [
       "<div>\n",
       "<style scoped>\n",
       "    .dataframe tbody tr th:only-of-type {\n",
       "        vertical-align: middle;\n",
       "    }\n",
       "\n",
       "    .dataframe tbody tr th {\n",
       "        vertical-align: top;\n",
       "    }\n",
       "\n",
       "    .dataframe thead th {\n",
       "        text-align: right;\n",
       "    }\n",
       "</style>\n",
       "<table border=\"1\" class=\"dataframe\">\n",
       "  <thead>\n",
       "    <tr style=\"text-align: right;\">\n",
       "      <th></th>\n",
       "      <th>overall</th>\n",
       "      <th>vote</th>\n",
       "      <th>verified</th>\n",
       "      <th>reviewTime</th>\n",
       "      <th>reviewerID</th>\n",
       "      <th>asin</th>\n",
       "      <th>reviewerName</th>\n",
       "      <th>reviewText</th>\n",
       "      <th>summary</th>\n",
       "      <th>unixReviewTime</th>\n",
       "      <th>style</th>\n",
       "      <th>image</th>\n",
       "      <th>cardinalidad_vocabulario</th>\n",
       "    </tr>\n",
       "  </thead>\n",
       "  <tbody>\n",
       "    <tr>\n",
       "      <th>0</th>\n",
       "      <td>3</td>\n",
       "      <td>2</td>\n",
       "      <td>True</td>\n",
       "      <td>12 2, 2016</td>\n",
       "      <td>A2KN4FJVI2TZSF</td>\n",
       "      <td>0972585419</td>\n",
       "      <td>M.G.</td>\n",
       "      <td>I purchased this cd for my Pocket Parrot. It h...</td>\n",
       "      <td>It's okay</td>\n",
       "      <td>1480636800</td>\n",
       "      <td>NaN</td>\n",
       "      <td>NaN</td>\n",
       "      <td>58</td>\n",
       "    </tr>\n",
       "    <tr>\n",
       "      <th>1</th>\n",
       "      <td>3</td>\n",
       "      <td>NaN</td>\n",
       "      <td>True</td>\n",
       "      <td>10 17, 2016</td>\n",
       "      <td>A3RMA1DD66JDRV</td>\n",
       "      <td>0972585419</td>\n",
       "      <td>Susan P.</td>\n",
       "      <td>Maybe it's just my Amazon parrot, but she's no...</td>\n",
       "      <td>It might work for a different bird</td>\n",
       "      <td>1476662400</td>\n",
       "      <td>NaN</td>\n",
       "      <td>NaN</td>\n",
       "      <td>18</td>\n",
       "    </tr>\n",
       "    <tr>\n",
       "      <th>2</th>\n",
       "      <td>5</td>\n",
       "      <td>2</td>\n",
       "      <td>True</td>\n",
       "      <td>09 9, 2016</td>\n",
       "      <td>AAANYRIEOIT3R</td>\n",
       "      <td>0972585419</td>\n",
       "      <td>Luggie Lugnut</td>\n",
       "      <td>I bought this to help me teach my blue quaker ...</td>\n",
       "      <td>I bought this to help me teach my blue quaker ...</td>\n",
       "      <td>1473379200</td>\n",
       "      <td>NaN</td>\n",
       "      <td>NaN</td>\n",
       "      <td>43</td>\n",
       "    </tr>\n",
       "    <tr>\n",
       "      <th>3</th>\n",
       "      <td>3</td>\n",
       "      <td>NaN</td>\n",
       "      <td>True</td>\n",
       "      <td>08 31, 2016</td>\n",
       "      <td>A3W44VX0LXAOHU</td>\n",
       "      <td>0972585419</td>\n",
       "      <td>Melissa Partin</td>\n",
       "      <td>Bird showed no interest in it....</td>\n",
       "      <td>Three Stars</td>\n",
       "      <td>1472601600</td>\n",
       "      <td>NaN</td>\n",
       "      <td>NaN</td>\n",
       "      <td>7</td>\n",
       "    </tr>\n",
       "    <tr>\n",
       "      <th>4</th>\n",
       "      <td>2</td>\n",
       "      <td>NaN</td>\n",
       "      <td>True</td>\n",
       "      <td>08 18, 2016</td>\n",
       "      <td>A16ZDBZGKYDRSU</td>\n",
       "      <td>0972585419</td>\n",
       "      <td>Cheryle Bell</td>\n",
       "      <td>Didn't do a thing for my African Grey! He hate...</td>\n",
       "      <td>He hated it and it was very obnoxious</td>\n",
       "      <td>1471478400</td>\n",
       "      <td>NaN</td>\n",
       "      <td>NaN</td>\n",
       "      <td>17</td>\n",
       "    </tr>\n",
       "  </tbody>\n",
       "</table>\n",
       "</div>"
      ],
      "text/plain": [
       "   overall vote  verified   reviewTime      reviewerID        asin  \\\n",
       "0        3    2      True   12 2, 2016  A2KN4FJVI2TZSF  0972585419   \n",
       "1        3  NaN      True  10 17, 2016  A3RMA1DD66JDRV  0972585419   \n",
       "2        5    2      True   09 9, 2016   AAANYRIEOIT3R  0972585419   \n",
       "3        3  NaN      True  08 31, 2016  A3W44VX0LXAOHU  0972585419   \n",
       "4        2  NaN      True  08 18, 2016  A16ZDBZGKYDRSU  0972585419   \n",
       "\n",
       "     reviewerName                                         reviewText  \\\n",
       "0            M.G.  I purchased this cd for my Pocket Parrot. It h...   \n",
       "1        Susan P.  Maybe it's just my Amazon parrot, but she's no...   \n",
       "2   Luggie Lugnut  I bought this to help me teach my blue quaker ...   \n",
       "3  Melissa Partin                  Bird showed no interest in it....   \n",
       "4    Cheryle Bell  Didn't do a thing for my African Grey! He hate...   \n",
       "\n",
       "                                             summary  unixReviewTime style  \\\n",
       "0                                          It's okay      1480636800   NaN   \n",
       "1                 It might work for a different bird      1476662400   NaN   \n",
       "2  I bought this to help me teach my blue quaker ...      1473379200   NaN   \n",
       "3                                        Three Stars      1472601600   NaN   \n",
       "4              He hated it and it was very obnoxious      1471478400   NaN   \n",
       "\n",
       "  image  cardinalidad_vocabulario  \n",
       "0   NaN                        58  \n",
       "1   NaN                        18  \n",
       "2   NaN                        43  \n",
       "3   NaN                         7  \n",
       "4   NaN                        17  "
      ]
     },
     "execution_count": 10,
     "metadata": {},
     "output_type": "execute_result"
    }
   ],
   "source": [
    "datos['cardinalidad_vocabulario'] = datos['reviewText'].apply(calcular_cardinalidad_vocabulario)\n",
    "datos.head()"
   ]
  },
  {
   "cell_type": "code",
   "execution_count": 5,
   "metadata": {
    "colab": {
     "base_uri": "https://localhost:8080/"
    },
    "id": "NsoO7CyE3pYw",
    "outputId": "615e7d10-e690-478c-fd49-dedce71ca1f5"
   },
   "outputs": [
    {
     "name": "stdout",
     "output_type": "stream",
     "text": [
      "Distribución de reviews por número de estrellas:\n",
      "1     136561\n",
      "2     107731\n",
      "3     179519\n",
      "4     294116\n",
      "5    1379749\n",
      "Name: overall, dtype: int64\n"
     ]
    }
   ],
   "source": [
    "distribucion_estrellas = datos['overall'].value_counts().sort_index()\n",
    "print(\"Distribución de reviews por número de estrellas:\")\n",
    "print(distribucion_estrellas)"
   ]
  },
  {
   "cell_type": "code",
   "execution_count": 6,
   "metadata": {
    "colab": {
     "base_uri": "https://localhost:8080/"
    },
    "id": "5_m7ae1D4JJ_",
    "outputId": "0a3de6df-a408-43ab-cca2-f635481e0601"
   },
   "outputs": [
    {
     "name": "stdout",
     "output_type": "stream",
     "text": [
      "Número de reviews positivas: 1673865\n",
      "Número de reviews negativas: 244292\n"
     ]
    }
   ],
   "source": [
    "num_positivas = datos[datos['overall'] >= 4].shape[0] # Tomo que 4 y 5 estrellas son positivas y 1 ,2 son más bien negativas\n",
    "num_negativas = datos[datos['overall'] <= 2].shape[0]\n",
    "print(\"Número de reviews positivas:\", num_positivas)\n",
    "print(\"Número de reviews negativas:\", num_negativas)"
   ]
  },
  {
   "cell_type": "code",
   "execution_count": 7,
   "metadata": {
    "colab": {
     "base_uri": "https://localhost:8080/",
     "height": 176
    },
    "id": "DPPYV6An4nfI",
    "outputId": "82ef2235-ed5b-4a3f-8135-58d106ca0757"
   },
   "outputs": [
    {
     "ename": "NameError",
     "evalue": "name 'datos' is not defined",
     "output_type": "error",
     "traceback": [
      "\u001b[1;31m---------------------------------------------------------------------------\u001b[0m",
      "\u001b[1;31mNameError\u001b[0m                                 Traceback (most recent call last)",
      "\u001b[1;32m~\\AppData\\Local\\Temp\\ipykernel_16872\\1273520896.py\u001b[0m in \u001b[0;36m<module>\u001b[1;34m\u001b[0m\n\u001b[1;32m----> 1\u001b[1;33m \u001b[0mngrams_frecuentes\u001b[0m \u001b[1;33m=\u001b[0m \u001b[0mobtener_ngrams\u001b[0m\u001b[1;33m(\u001b[0m\u001b[0mdatos\u001b[0m\u001b[1;33m[\u001b[0m\u001b[1;34m'reviewText'\u001b[0m\u001b[1;33m]\u001b[0m\u001b[1;33m.\u001b[0m\u001b[0mstr\u001b[0m\u001b[1;33m.\u001b[0m\u001b[0mcat\u001b[0m\u001b[1;33m(\u001b[0m\u001b[0msep\u001b[0m\u001b[1;33m=\u001b[0m\u001b[1;34m' '\u001b[0m\u001b[1;33m)\u001b[0m\u001b[1;33m)\u001b[0m\u001b[1;33m\u001b[0m\u001b[1;33m\u001b[0m\u001b[0m\n\u001b[0m\u001b[0;32m      2\u001b[0m \u001b[0mprint\u001b[0m\u001b[1;33m(\u001b[0m\u001b[1;34m\"N-grams más frecuentes:\"\u001b[0m\u001b[1;33m)\u001b[0m\u001b[1;33m\u001b[0m\u001b[1;33m\u001b[0m\u001b[0m\n\u001b[0;32m      3\u001b[0m \u001b[0mprint\u001b[0m\u001b[1;33m(\u001b[0m\u001b[0mngrams_frecuentes\u001b[0m\u001b[1;33m)\u001b[0m\u001b[1;33m\u001b[0m\u001b[1;33m\u001b[0m\u001b[0m\n",
      "\u001b[1;31mNameError\u001b[0m: name 'datos' is not defined"
     ]
    }
   ],
   "source": [
    "ngrams_frecuentes = obtener_ngrams(datos['reviewText'].str.cat(sep=' '))\n",
    "print(\"N-grams más frecuentes:\")\n",
    "print(ngrams_frecuentes)"
   ]
  },
  {
   "cell_type": "code",
   "execution_count": null,
   "metadata": {},
   "outputs": [],
   "source": [
    "n_grams_frecuentes = [ngram[0] for ngram in ngrams_frecuentes]\n",
    "\n",
    "# Crear la nube de palabras\n",
    "ngrams_texto_completo = ' '.join([' '.join(ngram) for ngram in n_grams_frecuentes])\n",
    "wordcloud = WordCloud(width=800, height=400, background_color='white').generate(ngrams_texto_completo)\n",
    "\n",
    "# Mostrar la nube de palabras\n",
    "plt.figure(figsize=(10, 5))\n",
    "plt.imshow(wordcloud, interpolation='bilinear')\n",
    "plt.axis('off')\n",
    "plt.show()"
   ]
  }
 ],
 "metadata": {
  "colab": {
   "provenance": []
  },
  "kernelspec": {
   "display_name": "Python 3 (ipykernel)",
   "language": "python",
   "name": "python3"
  },
  "language_info": {
   "codemirror_mode": {
    "name": "ipython",
    "version": 3
   },
   "file_extension": ".py",
   "mimetype": "text/x-python",
   "name": "python",
   "nbconvert_exporter": "python",
   "pygments_lexer": "ipython3",
   "version": "3.9.13"
  }
 },
 "nbformat": 4,
 "nbformat_minor": 1
}
